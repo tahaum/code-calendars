{
 "cells": [
  {
   "cell_type": "code",
   "execution_count": 8,
   "metadata": {},
   "outputs": [],
   "source": [
    "with open('01_1.txt', 'r') as f:\n",
    "    expense = f.read().split()\n",
    "    \n",
    "expense = [int(exp) for exp in expense]"
   ]
  },
  {
   "cell_type": "code",
   "execution_count": 14,
   "metadata": {},
   "outputs": [
    {
     "data": {
      "text/plain": [
       "200"
      ]
     },
     "execution_count": 14,
     "metadata": {},
     "output_type": "execute_result"
    }
   ],
   "source": [
    "len(expense)"
   ]
  },
  {
   "cell_type": "code",
   "execution_count": 15,
   "metadata": {},
   "outputs": [
    {
     "name": "stdout",
     "output_type": "stream",
     "text": [
      "131248694\n",
      "131248694\n",
      "131248694\n",
      "131248694\n",
      "131248694\n",
      "131248694\n"
     ]
    }
   ],
   "source": [
    "for i in expense:\n",
    "    for j in expense:\n",
    "        for k in expense:\n",
    "            if i != j != k:\n",
    "                if (i + j + k) == 2020:\n",
    "                    print(i * j * k)"
   ]
  }
 ],
 "metadata": {
  "kernelspec": {
   "display_name": "Python 3",
   "language": "python",
   "name": "python3"
  },
  "language_info": {
   "codemirror_mode": {
    "name": "ipython",
    "version": 3
   },
   "file_extension": ".py",
   "mimetype": "text/x-python",
   "name": "python",
   "nbconvert_exporter": "python",
   "pygments_lexer": "ipython3",
   "version": "3.9.0"
  }
 },
 "nbformat": 4,
 "nbformat_minor": 4
}
