{
 "cells": [
  {
   "cell_type": "code",
   "execution_count": 41,
   "metadata": {},
   "outputs": [],
   "source": [
    "with open('02_1.txt', 'r') as f:\n",
    "    pwd_pols = f.read().split('\\n')[:-1]"
   ]
  },
  {
   "cell_type": "code",
   "execution_count": 42,
   "metadata": {},
   "outputs": [
    {
     "data": {
      "text/plain": [
       "['15-16 m: mhmjmzrmmlmmmmmm',\n",
       " '5-6 d: dcdddhzld',\n",
       " '3-4 s: vqssdcbl',\n",
       " '3-6 b: bbhbbbqbbb',\n",
       " '10-11 q: cqqntqhqwwh']"
      ]
     },
     "execution_count": 42,
     "metadata": {},
     "output_type": "execute_result"
    }
   ],
   "source": [
    "pwd_pols[:5]"
   ]
  },
  {
   "cell_type": "code",
   "execution_count": 43,
   "metadata": {},
   "outputs": [
    {
     "name": "stdout",
     "output_type": "stream",
     "text": [
      "636\n"
     ]
    }
   ],
   "source": [
    "valid_pwds = 0\n",
    "\n",
    "for pwd_pol in pwd_pols:\n",
    "    \n",
    "    ll = int(pwd_pol.split('-')[0])\n",
    "    ul = int(pwd_pol.split('-')[1].split(' ')[0])\n",
    "    char = pwd_pol.split('-')[1].split(' ')[1][0]\n",
    "    pwd = pwd_pol.split('-')[1].split(' ')[2]\n",
    "    \n",
    "    char_count = pwd.count(char)\n",
    "    if ll <= char_count <= ul:\n",
    "        valid_pwds += 1\n",
    "        \n",
    "print(valid_pwds)"
   ]
  },
  {
   "cell_type": "code",
   "execution_count": 51,
   "metadata": {},
   "outputs": [
    {
     "name": "stdout",
     "output_type": "stream",
     "text": [
      "588\n"
     ]
    }
   ],
   "source": [
    "valid_pwds = 0\n",
    "\n",
    "for pwd_pol in pwd_pols:\n",
    "    \n",
    "    ll = int(pwd_pol.split('-')[0]) - 1\n",
    "    ul = int(pwd_pol.split('-')[1].split(' ')[0]) - 1\n",
    "    char = pwd_pol.split('-')[1].split(' ')[1][0]\n",
    "    pwd = pwd_pol.split('-')[1].split(' ')[2]\n",
    "    \n",
    "    try:\n",
    "        if ((pwd[ll] == char) & (pwd[ul] != char)):\n",
    "            valid_pwds += 1\n",
    "        elif ((pwd[ll] != char) & (pwd[ul] == char)):\n",
    "            valid_pwds += 1\n",
    "    except Exception as e:\n",
    "        pass\n",
    "        \n",
    "print(valid_pwds)"
   ]
  },
  {
   "cell_type": "code",
   "execution_count": null,
   "metadata": {},
   "outputs": [],
   "source": []
  }
 ],
 "metadata": {
  "kernelspec": {
   "display_name": "Python 3",
   "language": "python",
   "name": "python3"
  },
  "language_info": {
   "codemirror_mode": {
    "name": "ipython",
    "version": 3
   },
   "file_extension": ".py",
   "mimetype": "text/x-python",
   "name": "python",
   "nbconvert_exporter": "python",
   "pygments_lexer": "ipython3",
   "version": "3.9.0"
  }
 },
 "nbformat": 4,
 "nbformat_minor": 4
}
